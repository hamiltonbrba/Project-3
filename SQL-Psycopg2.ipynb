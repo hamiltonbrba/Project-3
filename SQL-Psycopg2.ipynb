{
 "cells": [
  {
   "cell_type": "code",
   "execution_count": 10,
   "metadata": {},
   "outputs": [],
   "source": [
    "import os\n",
    "import psycopg2\n",
    "from dotenv import load_dotenv\n",
    "load_dotenv()\n",
    "\n",
    "rds_host=os.getenv('DB_HOST2')\n",
    "rds_port = os.getenv('DB_PORT2')\n",
    "db_name=os.getenv('DB_NAME2')\n",
    "db_user=os.getenv('DB_USER2')\n",
    "db_password=os.getenv('DB_PASS2')\n"
   ]
  },
  {
   "cell_type": "code",
   "execution_count": 11,
   "metadata": {},
   "outputs": [],
   "source": [
    "# Establish a connection to your PostgreSQL database\n",
    "connection = psycopg2.connect(\n",
    "    host=rds_host,\n",
    "    port=rds_port,\n",
    "    database=db_name,\n",
    "    user=db_user,\n",
    "    password=db_password\n",
    ")"
   ]
  },
  {
   "cell_type": "code",
   "execution_count": 12,
   "metadata": {},
   "outputs": [],
   "source": [
    "# Create a cursor object to interact with the database\n",
    "cursor = connection.cursor()"
   ]
  },
  {
   "cell_type": "code",
   "execution_count": null,
   "metadata": {},
   "outputs": [],
   "source": [
    "# Define SQL queries to create the tables\n",
    "\n",
    "# 1. Create the State table\n",
    "create_state_table = \"\"\"\n",
    "CREATE TABLE \"State_Table\" (\n",
    "    \"area\" int   NOT NULL,\n",
    "    \"area_title\" varchar(30)   NOT NULL,\n",
    "    \"prim_state\" varchar(30)   NOT NULL,\n",
    "    CONSTRAINT \"pk_State_Table\" PRIMARY KEY (\n",
    "        \"area\"\n",
    "     )\n",
    ");\n",
    "\"\"\""
   ]
  },
  {
   "cell_type": "code",
   "execution_count": null,
   "metadata": {},
   "outputs": [],
   "source": [
    "# 2. Create the Occupation table\n",
    "create_occupation_table = \"\"\"\n",
    "CREATE TABLE \"Occupation_Table\" (\n",
    "    \"occ_code\" varchar(20)   NOT NULL,\n",
    "    \"occ_title\" varchar(200)   NOT NULL,\n",
    "    \"o_group\" varchar(40)   NOT NULL,\n",
    "    CONSTRAINT \"pk_Occupation_Table\" PRIMARY KEY (\n",
    "        \"occ_code\"\n",
    "     )\n",
    ");\n",
    "\"\"\""
   ]
  },
  {
   "cell_type": "code",
   "execution_count": null,
   "metadata": {},
   "outputs": [],
   "source": [
    "# 3. Create the EmploymentWage table\n",
    "create_employment_wage_table = \"\"\"\n",
    "CREATE TABLE \"EmploymentWage_Table\" (\n",
    "    \"area\" int   NOT NULL,\n",
    "    \"occ_code\" varchar(10)   NOT NULL,\n",
    "    \"tot_emp\" numeric(12,2)   NOT NULL,\n",
    "    \"emp_prse\" numeric(12,2)   NOT NULL,\n",
    "    \"jobs_1000\" numeric(12,2)   NOT NULL,\n",
    "    \"loc_quotient\" numeric(12,2)   NOT NULL,\n",
    "    \"h_mean\" numeric(12,2)   NOT NULL,\n",
    "    \"a_mean\" numeric(12,2)   NOT NULL,\n",
    "    \"mean_prse\" numeric(12,2)   NOT NULL,\n",
    "    \"h_pct25\" numeric(12,2)   NOT NULL,\n",
    "    \"h_median\" numeric(12,2)   NOT NULL,\n",
    "    \"h_pct75\" numeric(12,2)   NOT NULL,\n",
    "    \"a_pct25\" numeric(12,2)   NOT NULL,\n",
    "    \"a_median\" numeric(12,2)   NOT NULL,\n",
    "    \"a_pct75\" numeric(12,2)   NOT NULL,\n",
    "    CONSTRAINT \"pk_EmploymentWage_Table\" PRIMARY KEY (\n",
    "        \"area\",\"occ_code\"\n",
    "     )\n",
    ");\n",
    "\"\"\""
   ]
  },
  {
   "cell_type": "code",
   "execution_count": null,
   "metadata": {},
   "outputs": [],
   "source": [
    "# Execute the queries to create the tables\n",
    "cursor.execute(create_state_table)\n",
    "cursor.execute(create_occupation_table)\n",
    "cursor.execute(create_employment_wage_table)\n",
    "\n",
    "# Commit the changes to the database\n",
    "connection.commit()\n",
    "\n",
    "print(\"Tables created successfully.\")"
   ]
  },
  {
   "cell_type": "code",
   "execution_count": null,
   "metadata": {},
   "outputs": [],
   "source": [
    "# Close the cursor and connection\n",
    "cursor.close()\n",
    "connection.close()"
   ]
  }
 ],
 "metadata": {
  "kernelspec": {
   "display_name": "DataViz2",
   "language": "python",
   "name": "python3"
  },
  "language_info": {
   "codemirror_mode": {
    "name": "ipython",
    "version": 3
   },
   "file_extension": ".py",
   "mimetype": "text/x-python",
   "name": "python",
   "nbconvert_exporter": "python",
   "pygments_lexer": "ipython3",
   "version": "3.11.9"
  }
 },
 "nbformat": 4,
 "nbformat_minor": 2
}
