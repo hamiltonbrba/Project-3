{
 "cells": [
  {
   "cell_type": "code",
   "execution_count": 10,
   "metadata": {},
   "outputs": [],
   "source": [
    "import os\n",
    "import psycopg2\n",
    "from dotenv import load_dotenv\n",
    "load_dotenv()\n",
    "\n",
    "rds_host=os.getenv('DB_HOST2')\n",
    "rds_port = os.getenv('DB_PORT2')\n",
    "db_name=os.getenv('DB_NAME2')\n",
    "db_user=os.getenv('DB_USER2')\n",
    "db_password=os.getenv('DB_PASS2')\n"
   ]
  },
  {
   "cell_type": "code",
   "execution_count": 11,
   "metadata": {},
   "outputs": [],
   "source": [
    "# Establish a connection to your PostgreSQL database\n",
    "connection = psycopg2.connect(\n",
    "    host=rds_host,\n",
    "    port=rds_port,\n",
    "    database=db_name,\n",
    "    user=db_user,\n",
    "    password=db_password\n",
    ")"
   ]
  },
  {
   "cell_type": "code",
   "execution_count": 12,
   "metadata": {},
   "outputs": [],
   "source": [
    "# Create a cursor object to interact with the database\n",
    "cursor = connection.cursor()"
   ]
  },
  {
   "cell_type": "code",
   "execution_count": null,
   "metadata": {},
   "outputs": [],
   "source": [
    "# Define SQL queries to create the tables\n",
    "\n",
    "# 1. Create the State table\n",
    "create_state_table = \"\"\"\n",
    "CREATE TABLE IF NOT EXISTS State (\n",
    "    state_id SERIAL PRIMARY KEY,\n",
    "    state_name VARCHAR(255) NOT NULL,\n",
    "    state_abbr VARCHAR(2) NOT NULL\n",
    ");\n",
    "\"\"\""
   ]
  },
  {
   "cell_type": "code",
   "execution_count": null,
   "metadata": {},
   "outputs": [],
   "source": [
    "# 2. Create the Occupation table\n",
    "create_occupation_table = \"\"\"\n",
    "CREATE TABLE IF NOT EXISTS Occupation (\n",
    "    occ_code VARCHAR(10) PRIMARY KEY,\n",
    "    occ_title VARCHAR(255) NOT NULL,\n",
    "    o_group VARCHAR(50) NOT NULL\n",
    ");\n",
    "\"\"\""
   ]
  },
  {
   "cell_type": "code",
   "execution_count": null,
   "metadata": {},
   "outputs": [],
   "source": [
    "# 3. Create the EmploymentWage table\n",
    "create_employment_wage_table = \"\"\"\n",
    "CREATE TABLE IF NOT EXISTS EmploymentWage (\n",
    "    id SERIAL PRIMARY KEY,\n",
    "    state_id INT REFERENCES State(state_id),\n",
    "    occ_code VARCHAR(10) REFERENCES Occupation(occ_code),\n",
    "    tot_emp REAL,\n",
    "    emp_prse REAL,\n",
    "    jobs_1000 REAL,\n",
    "    loc_quotient REAL,\n",
    "    h_mean REAL,\n",
    "    a_mean REAL,\n",
    "    mean_prse REAL,\n",
    "    h_pct25 REAL,\n",
    "    h_median REAL,\n",
    "    h_pct75 REAL,\n",
    "    a_pct25 REAL,\n",
    "    a_median REAL,\n",
    "    a_pct75 REAL\n",
    ");\n",
    "\"\"\""
   ]
  },
  {
   "cell_type": "code",
   "execution_count": null,
   "metadata": {},
   "outputs": [],
   "source": [
    "# Execute the queries to create the tables\n",
    "cursor.execute(create_state_table)\n",
    "cursor.execute(create_occupation_table)\n",
    "cursor.execute(create_employment_wage_table)\n",
    "\n",
    "# Commit the changes to the database\n",
    "connection.commit()\n",
    "\n",
    "print(\"Tables created successfully.\")"
   ]
  },
  {
   "cell_type": "code",
   "execution_count": null,
   "metadata": {},
   "outputs": [],
   "source": [
    "# Close the cursor and connection\n",
    "cursor.close()\n",
    "connection.close()"
   ]
  }
 ],
 "metadata": {
  "kernelspec": {
   "display_name": "DataViz2",
   "language": "python",
   "name": "python3"
  },
  "language_info": {
   "codemirror_mode": {
    "name": "ipython",
    "version": 3
   },
   "file_extension": ".py",
   "mimetype": "text/x-python",
   "name": "python",
   "nbconvert_exporter": "python",
   "pygments_lexer": "ipython3",
   "version": "3.11.9"
  }
 },
 "nbformat": 4,
 "nbformat_minor": 2
}
